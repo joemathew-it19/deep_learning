{
 "cells": [
  {
   "cell_type": "code",
   "execution_count": 4,
   "metadata": {},
   "outputs": [],
   "source": [
    "import warnings\n",
    "warnings.filterwarnings('ignore')"
   ]
  },
  {
   "cell_type": "code",
   "execution_count": 5,
   "metadata": {},
   "outputs": [],
   "source": [
    "import numpy as np\n",
    "import tensorflow as tf\n",
    "import matplotlib.pyplot as plt \n",
    "from tensorflow import keras\n",
    "from tensorflow.keras import layers,datasets,models"
   ]
  },
  {
   "cell_type": "code",
   "execution_count": 6,
   "metadata": {},
   "outputs": [],
   "source": [
    "(X_train,y_train),(X_test,y_test) = datasets.cifar10.load_data()"
   ]
  },
  {
   "cell_type": "code",
   "execution_count": 7,
   "metadata": {},
   "outputs": [
    {
     "data": {
      "text/plain": [
       "(50000, 32, 32, 3)"
      ]
     },
     "execution_count": 7,
     "metadata": {},
     "output_type": "execute_result"
    }
   ],
   "source": [
    "X_train.shape # first is no of image 32 * 32 size 3 is rgb channel "
   ]
  },
  {
   "cell_type": "code",
   "execution_count": 8,
   "metadata": {},
   "outputs": [
    {
     "data": {
      "text/plain": [
       "array([[6],\n",
       "       [9],\n",
       "       [9],\n",
       "       [4],\n",
       "       [1]], dtype=uint8)"
      ]
     },
     "execution_count": 8,
     "metadata": {},
     "output_type": "execute_result"
    }
   ],
   "source": [
    "y_train[:5]"
   ]
  },
  {
   "cell_type": "code",
   "execution_count": 20,
   "metadata": {},
   "outputs": [
    {
     "data": {
      "text/plain": [
       "array([6, 9, 9, 4, 1], dtype=uint8)"
      ]
     },
     "execution_count": 20,
     "metadata": {},
     "output_type": "execute_result"
    }
   ],
   "source": [
    "# changing to 2d array to 1 d \n",
    "y_train = y_train.reshape(-1,)\n",
    "y_train[:5]"
   ]
  },
  {
   "cell_type": "code",
   "execution_count": 21,
   "metadata": {},
   "outputs": [
    {
     "data": {
      "text/plain": [
       "(10000, 32, 32, 3)"
      ]
     },
     "execution_count": 21,
     "metadata": {},
     "output_type": "execute_result"
    }
   ],
   "source": [
    "X_test.shape"
   ]
  },
  {
   "cell_type": "code",
   "execution_count": 22,
   "metadata": {},
   "outputs": [],
   "source": [
    "classes = [\n",
    "\"airplane\",\n",
    "\"automobile\",\n",
    "\"bird\",\n",
    "\"cat\",\n",
    "\"deer\",\n",
    "\"dog\",\n",
    "\"frog\",\n",
    "\"horse\",\n",
    "\"ship\",\n",
    "\"truck\"]"
   ]
  },
  {
   "cell_type": "code",
   "execution_count": 23,
   "metadata": {},
   "outputs": [
    {
     "data": {
      "text/plain": [
       "'truck'"
      ]
     },
     "execution_count": 23,
     "metadata": {},
     "output_type": "execute_result"
    }
   ],
   "source": [
    "classes[9]"
   ]
  },
  {
   "cell_type": "code",
   "execution_count": 24,
   "metadata": {},
   "outputs": [],
   "source": [
    "def plot_sample(X,y,index):\n",
    "    plt.figure(figsize=(15,2))\n",
    "    plt.imshow(X[index])\n",
    "    plt.xlabel(classes[y[index]])"
   ]
  },
  {
   "cell_type": "code",
   "execution_count": 25,
   "metadata": {},
   "outputs": [
    {
     "data": {
      "image/png": "[encoded data removed]",
      "text/plain": [
       "<Figure size 1080x144 with 1 Axes>"
      ]
     },
     "metadata": {
      "needs_background": "light"
     },
     "output_type": "display_data"
    }
   ],
   "source": [
    "plot_sample(X_train,y_train,1)"
   ]
  },
  {
   "cell_type": "code",
   "execution_count": 28,
   "metadata": {},
   "outputs": [],
   "source": [
    "X_train = X_train/255\n",
    "X_test = X_test / 255"
   ]
  },
  {
   "cell_type": "code",
   "execution_count": 29,
   "metadata": {},
   "outputs": [
    {
     "name": "stdout",
     "output_type": "stream",
     "text": [
      "WARNING:tensorflow:From C:\\Users\\JOEMATHEWS\\AppData\\Roaming\\Python\\Python37\\site-packages\\tensorflow\\python\\ops\\init_ops.py:1251: calling VarianceScaling.__init__ (from tensorflow.python.ops.init_ops) with dtype is deprecated and will be removed in a future version.\n",
      "Instructions for updating:\n",
      "Call initializer instance with the dtype argument instead of passing it to the constructor\n",
      "WARNING:tensorflow:From C:\\Users\\JOEMATHEWS\\AppData\\Roaming\\Python\\Python37\\site-packages\\tensorflow\\python\\ops\\math_grad.py:1250: add_dispatch_support.<locals>.wrapper (from tensorflow.python.ops.array_ops) is deprecated and will be removed in a future version.\n",
      "Instructions for updating:\n",
      "Use tf.where in 2.0, which has the same broadcast rule as np.where\n",
      "Epoch 1/5\n",
      "50000/50000 [==============================] - 19s 388us/sample - loss: 1.8572 - acc: 0.3366\n",
      "Epoch 2/5\n",
      "50000/50000 [==============================] - 19s 373us/sample - loss: 1.6582 - acc: 0.4129\n",
      "Epoch 3/5\n",
      "50000/50000 [==============================] - 20s 397us/sample - loss: 1.5702 - acc: 0.4452\n",
      "Epoch 4/5\n",
      "50000/50000 [==============================] - 19s 383us/sample - loss: 1.5088 - acc: 0.4681\n",
      "Epoch 5/5\n",
      "50000/50000 [==============================] - 20s 396us/sample - loss: 1.4582 - acc: 0.4842\n"
     ]
    },
    {
     "data": {
      "text/plain": [
       "<tensorflow.python.keras.callbacks.History at 0x19bfe7d4408>"
      ]
     },
     "execution_count": 29,
     "metadata": {},
     "output_type": "execute_result"
    }
   ],
   "source": [
    "# Simple ANN\n",
    "ann = models.Sequential([\n",
    "        layers.Flatten(input_shape=(32,32,3)),\n",
    "        layers.Dense(3000, activation='relu'),\n",
    "        layers.Dense(1000, activation='relu'),\n",
    "        layers.Dense(10, activation='sigmoid')    \n",
    "    ])\n",
    "\n",
    "ann.compile(optimizer='SGD',\n",
    "              loss='sparse_categorical_crossentropy',\n",
    "              metrics=['accuracy'])\n",
    "\n",
    "ann.fit(X_train, y_train, epochs=5)"
   ]
  },
  {
   "cell_type": "code",
   "execution_count": 30,
   "metadata": {},
   "outputs": [
    {
     "name": "stdout",
     "output_type": "stream",
     "text": [
      "10000/10000 [==============================] - 1s 65us/sample - loss: 1.5428 - acc: 0.4531\n"
     ]
    },
    {
     "data": {
      "text/plain": [
       "[1.5428251106262207, 0.4531]"
      ]
     },
     "execution_count": 30,
     "metadata": {},
     "output_type": "execute_result"
    }
   ],
   "source": [
    "ann.evaluate(X_test,y_test)"
   ]
  },
  {
   "cell_type": "code",
   "execution_count": 31,
   "metadata": {},
   "outputs": [
    {
     "name": "stdout",
     "output_type": "stream",
     "text": [
      "Classification Report: \n",
      "               precision    recall  f1-score   support\n",
      "\n",
      "           0       0.39      0.63      0.48      1000\n",
      "           1       0.53      0.65      0.58      1000\n",
      "           2       0.46      0.13      0.20      1000\n",
      "           3       0.38      0.29      0.33      1000\n",
      "           4       0.35      0.55      0.43      1000\n",
      "           5       0.60      0.13      0.22      1000\n",
      "           6       0.57      0.39      0.47      1000\n",
      "           7       0.51      0.55      0.53      1000\n",
      "           8       0.44      0.74      0.55      1000\n",
      "           9       0.54      0.47      0.50      1000\n",
      "\n",
      "    accuracy                           0.45     10000\n",
      "   macro avg       0.48      0.45      0.43     10000\n",
      "weighted avg       0.48      0.45      0.43     10000\n",
      "\n"
     ]
    }
   ],
   "source": [
    "from sklearn.metrics import confusion_matrix , classification_report\n",
    "import numpy as np\n",
    "y_pred = ann.predict(X_test)\n",
    "y_pred_classes = [np.argmax(element) for element in y_pred]\n",
    "\n",
    "print(\"Classification Report: \\n\", classification_report(y_test, y_pred_classes))"
   ]
  },
  {
   "cell_type": "code",
   "execution_count": 32,
   "metadata": {},
   "outputs": [],
   "source": [
    "#CNN MODEL  \n",
    "cnn = models.Sequential([\n",
    "    layers.Conv2D(filters=32, kernel_size=(3, 3), activation='relu', input_shape=(32, 32, 3)),\n",
    "    layers.MaxPooling2D((2, 2)),\n",
    "    \n",
    "    layers.Conv2D(filters=64, kernel_size=(3, 3), activation='relu'),\n",
    "    layers.MaxPooling2D((2, 2)),\n",
    "    \n",
    "    layers.Flatten(),\n",
    "    layers.Dense(64, activation='relu'),\n",
    "    layers.Dense(10, activation='softmax')\n",
    "])"
   ]
  },
  {
   "cell_type": "code",
   "execution_count": 33,
   "metadata": {},
   "outputs": [],
   "source": [
    "cnn.compile(optimizer='adam',\n",
    "              loss='sparse_categorical_crossentropy',\n",
    "              metrics=['accuracy'])"
   ]
  },
  {
   "cell_type": "code",
   "execution_count": 51,
   "metadata": {},
   "outputs": [
    {
     "name": "stdout",
     "output_type": "stream",
     "text": [
      "Epoch 1/20\n",
      "50000/50000 [==============================] - 6s 127us/sample - loss: 0.6248 - acc: 0.7804\n",
      "Epoch 2/20\n",
      "50000/50000 [==============================] - 7s 135us/sample - loss: 0.5935 - acc: 0.7929\n",
      "Epoch 3/20\n",
      "50000/50000 [==============================] - 7s 132us/sample - loss: 0.5674 - acc: 0.8035\n",
      "Epoch 4/20\n",
      "50000/50000 [==============================] - 6s 127us/sample - loss: 0.5366 - acc: 0.8128\n",
      "Epoch 5/20\n",
      "50000/50000 [==============================] - 7s 130us/sample - loss: 0.5101 - acc: 0.8218\n",
      "Epoch 6/20\n",
      "50000/50000 [==============================] - 7s 145us/sample - loss: 0.4854 - acc: 0.8291\n",
      "Epoch 7/20\n",
      "50000/50000 [==============================] - 7s 131us/sample - loss: 0.4590 - acc: 0.8391\n",
      "Epoch 8/20\n",
      "50000/50000 [==============================] - 6s 119us/sample - loss: 0.4374 - acc: 0.8460\n",
      "Epoch 9/20\n",
      "50000/50000 [==============================] - 6s 125us/sample - loss: 0.4135 - acc: 0.8545\n",
      "Epoch 10/20\n",
      "50000/50000 [==============================] - 6s 117us/sample - loss: 0.3966 - acc: 0.8607\n",
      "Epoch 11/20\n",
      "50000/50000 [==============================] - 6s 119us/sample - loss: 0.3738 - acc: 0.8685\n",
      "Epoch 12/20\n",
      "50000/50000 [==============================] - ETA: 0s - loss: 0.3567 - acc: 0.873 - 6s 117us/sample - loss: 0.3570 - acc: 0.8729\n",
      "Epoch 13/20\n",
      "50000/50000 [==============================] - 6s 119us/sample - loss: 0.3344 - acc: 0.8808\n",
      "Epoch 14/20\n",
      "50000/50000 [==============================] - 6s 118us/sample - loss: 0.3194 - acc: 0.8857\n",
      "Epoch 15/20\n",
      "50000/50000 [==============================] - 6s 117us/sample - loss: 0.3079 - acc: 0.8911\n",
      "Epoch 16/20\n",
      "50000/50000 [==============================] - 6s 119us/sample - loss: 0.2914 - acc: 0.8975\n",
      "Epoch 17/20\n",
      "50000/50000 [==============================] - 6s 119us/sample - loss: 0.2750 - acc: 0.9028\n",
      "Epoch 18/20\n",
      "50000/50000 [==============================] - 6s 118us/sample - loss: 0.2647 - acc: 0.9061\n",
      "Epoch 19/20\n",
      "50000/50000 [==============================] - 6s 120us/sample - loss: 0.2512 - acc: 0.9099\n",
      "Epoch 20/20\n",
      "50000/50000 [==============================] - 6s 118us/sample - loss: 0.2422 - acc: 0.9142\n"
     ]
    },
    {
     "data": {
      "text/plain": [
       "<tensorflow.python.keras.callbacks.History at 0x19cf69fb948>"
      ]
     },
     "execution_count": 51,
     "metadata": {},
     "output_type": "execute_result"
    }
   ],
   "source": [
    "cnn.fit(X_train, y_train, epochs=20)"
   ]
  },
  {
   "cell_type": "code",
   "execution_count": 52,
   "metadata": {},
   "outputs": [],
   "source": [
    "cnn.save('cifar-10.h5')"
   ]
  },
  {
   "cell_type": "code",
   "execution_count": 53,
   "metadata": {},
   "outputs": [],
   "source": [
    "from tensorflow.keras.models import load_model\n",
    "cnn1 = load_model(\"cifar-10.h5\")"
   ]
  },
  {
   "cell_type": "code",
   "execution_count": 54,
   "metadata": {},
   "outputs": [
    {
     "name": "stdout",
     "output_type": "stream",
     "text": [
      "10000/10000 [==============================] - 1s 69us/sample - loss: 1.5550 - acc: 0.6821\n"
     ]
    },
    {
     "data": {
      "text/plain": [
       "[1.555003927230835, 0.6821]"
      ]
     },
     "execution_count": 54,
     "metadata": {},
     "output_type": "execute_result"
    }
   ],
   "source": [
    "cnn1.evaluate(X_test,y_test)"
   ]
  },
  {
   "cell_type": "code",
   "execution_count": 55,
   "metadata": {},
   "outputs": [
    {
     "data": {
      "text/plain": [
       "array([3, 8, 8, 0, 6])"
      ]
     },
     "execution_count": 55,
     "metadata": {},
     "output_type": "execute_result"
    }
   ],
   "source": [
    "y_test = y_test.reshape(-1,)\n",
    "y_test[:5]"
   ]
  },
  {
   "cell_type": "code",
   "execution_count": 56,
   "metadata": {},
   "outputs": [
    {
     "data": {
      "image/png": "[encoded data removed]",
      "text/plain": [
       "<Figure size 1080x144 with 1 Axes>"
      ]
     },
     "metadata": {
      "needs_background": "light"
     },
     "output_type": "display_data"
    }
   ],
   "source": [
    "plot_sample(X_test, y_test,3)"
   ]
  },
  {
   "cell_type": "code",
   "execution_count": 57,
   "metadata": {},
   "outputs": [
    {
     "data": {
      "text/plain": [
       "array([[4.0287709e-10, 5.8417529e-12, 3.6408476e-08, 9.8194927e-01,\n",
       "        1.5480849e-08, 1.7993966e-02, 4.8171500e-05, 8.5469119e-06,\n",
       "        1.6354575e-10, 4.7086150e-12],\n",
       "       [3.0818508e-05, 1.8441775e-06, 2.8579152e-15, 6.5873850e-15,\n",
       "        2.3410040e-15, 6.8902751e-18, 1.4666032e-20, 9.1507330e-16,\n",
       "        9.9996734e-01, 1.8664552e-10],\n",
       "       [6.0748017e-01, 1.3124700e-02, 3.0124959e-04, 6.7132444e-04,\n",
       "        2.5939799e-03, 4.5659963e-06, 2.7730573e-07, 5.3506985e-04,\n",
       "        3.5160244e-01, 2.3686262e-02],\n",
       "       [9.9644512e-01, 5.7364796e-06, 8.6260581e-04, 7.2716910e-05,\n",
       "        2.3661479e-03, 1.2433487e-06, 5.2240182e-07, 8.0130238e-05,\n",
       "        1.6315839e-04, 2.6626403e-06],\n",
       "       [2.1244611e-09, 7.7672439e-07, 2.8687680e-05, 7.7862380e-05,\n",
       "        9.8206192e-01, 4.7022109e-05, 1.7783616e-02, 9.6242747e-10,\n",
       "        5.0640434e-08, 2.8608812e-12]], dtype=float32)"
      ]
     },
     "execution_count": 57,
     "metadata": {},
     "output_type": "execute_result"
    }
   ],
   "source": [
    "y_pred = cnn1.predict(X_test)\n",
    "y_pred[:5]"
   ]
  },
  {
   "cell_type": "code",
   "execution_count": 58,
   "metadata": {},
   "outputs": [
    {
     "data": {
      "text/plain": [
       "[3, 8, 0, 0, 4]"
      ]
     },
     "execution_count": 58,
     "metadata": {},
     "output_type": "execute_result"
    }
   ],
   "source": [
    "y_classes = [np.argmax(element) for element in y_pred]\n",
    "y_classes[:5]"
   ]
  },
  {
   "cell_type": "code",
   "execution_count": 59,
   "metadata": {},
   "outputs": [
    {
     "data": {
      "text/plain": [
       "array([3, 8, 8, 0, 6])"
      ]
     },
     "execution_count": 59,
     "metadata": {},
     "output_type": "execute_result"
    }
   ],
   "source": [
    "y_test[:5]"
   ]
  },
  {
   "cell_type": "code",
   "execution_count": null,
   "metadata": {},
   "outputs": [],
   "source": [
    "#thank yiu ............"
   ]
  }
 ],
 "metadata": {
  "kernelspec": {
   "display_name": "Python 3",
   "language": "python",
   "name": "python3"
  },
  "language_info": {
   "codemirror_mode": {
    "name": "ipython",
    "version": 3
   },
   "file_extension": ".py",
   "mimetype": "text/x-python",
   "name": "python",
   "nbconvert_exporter": "python",
   "pygments_lexer": "ipython3",
   "version": "3.7.9"
  }
 },
 "nbformat": 4,
 "nbformat_minor": 4
}
